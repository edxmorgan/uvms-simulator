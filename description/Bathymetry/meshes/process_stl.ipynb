{
 "cells": [
  {
   "cell_type": "code",
   "execution_count": 1,
   "id": "f199cd6d",
   "metadata": {},
   "outputs": [],
   "source": [
    "import pyvista as pv\n",
    "\n",
    "mesh = pv.read(\"hawaii.stl\")"
   ]
  },
  {
   "cell_type": "code",
   "execution_count": 2,
   "id": "29d7a7e3",
   "metadata": {},
   "outputs": [
    {
     "name": "stdout",
     "output_type": "stream",
     "text": [
      "Saved hawaii_cropped.stl, new bounds: BoundsTuple(x_min = -57.26504898071289,\n",
      "            x_max =  57.2397346496582,\n",
      "            y_min = -36.88563537597656,\n",
      "            y_max =  36.885719299316406,\n",
      "            z_min =  -0.4131554365158081,\n",
      "            z_max =   9.657496452331543)\n"
     ]
    }
   ],
   "source": [
    "xmin, xmax, ymin, ymax, zmin, zmax = mesh.bounds\n",
    "sx = xmax - xmin\n",
    "sy = ymax - ymin\n",
    "\n",
    "px = 0.02  # trim 1 percent from each side in X\n",
    "py = 0.03   # trim 1 percent from each side in Y\n",
    "\n",
    "mx = sx * px\n",
    "my = sy * py\n",
    "\n",
    "new_bounds = (\n",
    "    xmin + mx, xmax - mx,\n",
    "    ymin + my, ymax - my,\n",
    "    zmin,      zmax\n",
    ")\n",
    "\n",
    "cropped = mesh.clip_box(bounds=new_bounds, invert=False)\n",
    "surf = cropped.extract_surface().triangulate()\n",
    "surf.compute_normals(inplace=True, consistent_normals=True)\n",
    "surf.save(\"hawaii_cropped.stl\")\n",
    "print(\"Saved hawaii_cropped.stl, new bounds:\", surf.bounds)"
   ]
  },
  {
   "cell_type": "code",
   "execution_count": null,
   "id": "07cf8c8d",
   "metadata": {},
   "outputs": [],
   "source": []
  }
 ],
 "metadata": {
  "kernelspec": {
   "display_name": "Python 3",
   "language": "python",
   "name": "python3"
  },
  "language_info": {
   "codemirror_mode": {
    "name": "ipython",
    "version": 3
   },
   "file_extension": ".py",
   "mimetype": "text/x-python",
   "name": "python",
   "nbconvert_exporter": "python",
   "pygments_lexer": "ipython3",
   "version": "3.12.3"
  }
 },
 "nbformat": 4,
 "nbformat_minor": 5
}
